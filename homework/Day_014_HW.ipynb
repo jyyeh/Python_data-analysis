{
 "cells": [
  {
   "cell_type": "markdown",
   "metadata": {
    "colab_type": "text",
    "id": "P6xk2_jLsvFF"
   },
   "source": [
    "# [作業目標]\n",
    "\n",
    "\n",
    "1. [簡答題] 比較下列兩個讀入的 df 有什麼不同？為什麼造成的？\n",
    "\n",
    "2. 請將 Dcard API 取得所有的看板資訊轉換成 DataFrame，並且依照熱門程度排序後存成一個 csv 的檔案。\n",
    "\n",
    "\n"
   ]
  },
  {
   "cell_type": "markdown",
   "metadata": {
    "colab_type": "text",
    "id": "uXGll28asvFS"
   },
   "source": [
    "# 作業 "
   ]
  },
  {
   "cell_type": "code",
   "execution_count": 3,
   "metadata": {},
   "outputs": [],
   "source": [
    "# 記得先 Import 正確的套件\n",
    "import pandas as pd\n",
    "import numpy as np"
   ]
  },
  {
   "cell_type": "markdown",
   "metadata": {},
   "source": [
    "### 1. [簡答題] 比較下列兩個讀入的 df 有什麼不同？為什麼造成的？\n"
   ]
  },
  {
   "cell_type": "code",
   "execution_count": 2,
   "metadata": {
    "colab": {},
    "colab_type": "code",
    "id": "5QrYoyNWsvFS"
   },
   "outputs": [
    {
     "output_type": "execute_result",
     "data": {
      "text/plain": [
       "           PID  ST_NUM     ST_NAME OWN_OCCUPIED NUM_BEDROOMS NUM_BATH SQ_FT\n",
       "0  100001000.0   104.0      PUTNAM            Y            3        1  1000\n",
       "1  100002000.0   197.0   LEXINGTON            N            3      1.5    --\n",
       "2  100003000.0     NaN   LEXINGTON            N          NaN        1   850\n",
       "3  100004000.0   201.0    BERKELEY           12            1      NaN   700\n",
       "4          NaN   203.0    BERKELEY            Y            3        2  1600\n",
       "5  100006000.0   207.0    BERKELEY            Y          NaN        1   800\n",
       "6  100007000.0     NaN  WASHINGTON          NaN            2   HURLEY   950\n",
       "7  100008000.0   213.0     TREMONT            Y            1        1   NaN\n",
       "8  100009000.0   215.0     TREMONT            Y           na        2  1800"
      ],
      "text/html": "<div>\n<style scoped>\n    .dataframe tbody tr th:only-of-type {\n        vertical-align: middle;\n    }\n\n    .dataframe tbody tr th {\n        vertical-align: top;\n    }\n\n    .dataframe thead th {\n        text-align: right;\n    }\n</style>\n<table border=\"1\" class=\"dataframe\">\n  <thead>\n    <tr style=\"text-align: right;\">\n      <th></th>\n      <th>PID</th>\n      <th>ST_NUM</th>\n      <th>ST_NAME</th>\n      <th>OWN_OCCUPIED</th>\n      <th>NUM_BEDROOMS</th>\n      <th>NUM_BATH</th>\n      <th>SQ_FT</th>\n    </tr>\n  </thead>\n  <tbody>\n    <tr>\n      <th>0</th>\n      <td>100001000.0</td>\n      <td>104.0</td>\n      <td>PUTNAM</td>\n      <td>Y</td>\n      <td>3</td>\n      <td>1</td>\n      <td>1000</td>\n    </tr>\n    <tr>\n      <th>1</th>\n      <td>100002000.0</td>\n      <td>197.0</td>\n      <td>LEXINGTON</td>\n      <td>N</td>\n      <td>3</td>\n      <td>1.5</td>\n      <td>--</td>\n    </tr>\n    <tr>\n      <th>2</th>\n      <td>100003000.0</td>\n      <td>NaN</td>\n      <td>LEXINGTON</td>\n      <td>N</td>\n      <td>NaN</td>\n      <td>1</td>\n      <td>850</td>\n    </tr>\n    <tr>\n      <th>3</th>\n      <td>100004000.0</td>\n      <td>201.0</td>\n      <td>BERKELEY</td>\n      <td>12</td>\n      <td>1</td>\n      <td>NaN</td>\n      <td>700</td>\n    </tr>\n    <tr>\n      <th>4</th>\n      <td>NaN</td>\n      <td>203.0</td>\n      <td>BERKELEY</td>\n      <td>Y</td>\n      <td>3</td>\n      <td>2</td>\n      <td>1600</td>\n    </tr>\n    <tr>\n      <th>5</th>\n      <td>100006000.0</td>\n      <td>207.0</td>\n      <td>BERKELEY</td>\n      <td>Y</td>\n      <td>NaN</td>\n      <td>1</td>\n      <td>800</td>\n    </tr>\n    <tr>\n      <th>6</th>\n      <td>100007000.0</td>\n      <td>NaN</td>\n      <td>WASHINGTON</td>\n      <td>NaN</td>\n      <td>2</td>\n      <td>HURLEY</td>\n      <td>950</td>\n    </tr>\n    <tr>\n      <th>7</th>\n      <td>100008000.0</td>\n      <td>213.0</td>\n      <td>TREMONT</td>\n      <td>Y</td>\n      <td>1</td>\n      <td>1</td>\n      <td>NaN</td>\n    </tr>\n    <tr>\n      <th>8</th>\n      <td>100009000.0</td>\n      <td>215.0</td>\n      <td>TREMONT</td>\n      <td>Y</td>\n      <td>na</td>\n      <td>2</td>\n      <td>1800</td>\n    </tr>\n  </tbody>\n</table>\n</div>"
     },
     "metadata": {},
     "execution_count": 2
    }
   ],
   "source": [
    "df1 = pd.read_csv('https://raw.githubusercontent.com/dataoptimal/posts/master/data%20cleaning%20with%20python%20and%20pandas/property%20data.csv')\n",
    "df1"
   ]
  },
  {
   "cell_type": "code",
   "execution_count": 4,
   "metadata": {},
   "outputs": [
    {
     "output_type": "execute_result",
     "data": {
      "text/plain": [
       "           PID  ST_NUM     ST_NAME OWN_OCCUPIED  NUM_BEDROOMS NUM_BATH   SQ_FT\n",
       "0  100001000.0   104.0      PUTNAM            Y           3.0        1  1000.0\n",
       "1  100002000.0   197.0   LEXINGTON            N           3.0      1.5     NaN\n",
       "2  100003000.0     NaN   LEXINGTON            N           NaN        1   850.0\n",
       "3  100004000.0   201.0    BERKELEY           12           1.0      NaN   700.0\n",
       "4          NaN   203.0    BERKELEY            Y           3.0        2  1600.0\n",
       "5  100006000.0   207.0    BERKELEY            Y           NaN        1   800.0\n",
       "6  100007000.0     NaN  WASHINGTON          NaN           2.0   HURLEY   950.0\n",
       "7  100008000.0   213.0     TREMONT            Y           1.0        1     NaN\n",
       "8  100009000.0   215.0     TREMONT            Y           NaN        2  1800.0"
      ],
      "text/html": "<div>\n<style scoped>\n    .dataframe tbody tr th:only-of-type {\n        vertical-align: middle;\n    }\n\n    .dataframe tbody tr th {\n        vertical-align: top;\n    }\n\n    .dataframe thead th {\n        text-align: right;\n    }\n</style>\n<table border=\"1\" class=\"dataframe\">\n  <thead>\n    <tr style=\"text-align: right;\">\n      <th></th>\n      <th>PID</th>\n      <th>ST_NUM</th>\n      <th>ST_NAME</th>\n      <th>OWN_OCCUPIED</th>\n      <th>NUM_BEDROOMS</th>\n      <th>NUM_BATH</th>\n      <th>SQ_FT</th>\n    </tr>\n  </thead>\n  <tbody>\n    <tr>\n      <th>0</th>\n      <td>100001000.0</td>\n      <td>104.0</td>\n      <td>PUTNAM</td>\n      <td>Y</td>\n      <td>3.0</td>\n      <td>1</td>\n      <td>1000.0</td>\n    </tr>\n    <tr>\n      <th>1</th>\n      <td>100002000.0</td>\n      <td>197.0</td>\n      <td>LEXINGTON</td>\n      <td>N</td>\n      <td>3.0</td>\n      <td>1.5</td>\n      <td>NaN</td>\n    </tr>\n    <tr>\n      <th>2</th>\n      <td>100003000.0</td>\n      <td>NaN</td>\n      <td>LEXINGTON</td>\n      <td>N</td>\n      <td>NaN</td>\n      <td>1</td>\n      <td>850.0</td>\n    </tr>\n    <tr>\n      <th>3</th>\n      <td>100004000.0</td>\n      <td>201.0</td>\n      <td>BERKELEY</td>\n      <td>12</td>\n      <td>1.0</td>\n      <td>NaN</td>\n      <td>700.0</td>\n    </tr>\n    <tr>\n      <th>4</th>\n      <td>NaN</td>\n      <td>203.0</td>\n      <td>BERKELEY</td>\n      <td>Y</td>\n      <td>3.0</td>\n      <td>2</td>\n      <td>1600.0</td>\n    </tr>\n    <tr>\n      <th>5</th>\n      <td>100006000.0</td>\n      <td>207.0</td>\n      <td>BERKELEY</td>\n      <td>Y</td>\n      <td>NaN</td>\n      <td>1</td>\n      <td>800.0</td>\n    </tr>\n    <tr>\n      <th>6</th>\n      <td>100007000.0</td>\n      <td>NaN</td>\n      <td>WASHINGTON</td>\n      <td>NaN</td>\n      <td>2.0</td>\n      <td>HURLEY</td>\n      <td>950.0</td>\n    </tr>\n    <tr>\n      <th>7</th>\n      <td>100008000.0</td>\n      <td>213.0</td>\n      <td>TREMONT</td>\n      <td>Y</td>\n      <td>1.0</td>\n      <td>1</td>\n      <td>NaN</td>\n    </tr>\n    <tr>\n      <th>8</th>\n      <td>100009000.0</td>\n      <td>215.0</td>\n      <td>TREMONT</td>\n      <td>Y</td>\n      <td>NaN</td>\n      <td>2</td>\n      <td>1800.0</td>\n    </tr>\n  </tbody>\n</table>\n</div>"
     },
     "metadata": {},
     "execution_count": 4
    }
   ],
   "source": [
    "df2 = pd.read_csv(\n",
    "    'https://raw.githubusercontent.com/dataoptimal/posts/master/data%20cleaning%20with%20python%20and%20pandas/property%20data.csv',\n",
    "    keep_default_na=True,\n",
    "    na_values=['na', '--']\n",
    ")\n",
    "df2"
   ]
  },
  {
   "cell_type": "markdown",
   "metadata": {},
   "source": [
    "### 2. 請將 Dcard API 取得所有的看板資訊轉換成 DataFrame，並且依照熱門程度排序後存成一個 csv 的檔案。\n"
   ]
  },
  {
   "cell_type": "code",
   "execution_count": 5,
   "metadata": {
    "tags": [
     "outputPrepend"
    ]
   },
   "outputs": [
    {
     "output_type": "stream",
     "name": "stdout",
     "text": [
      "-516fc9f7228b/full.jpeg', 'type': 'image/jpeg', 'width': 1800, 'height': 600}, 'logo': {'url': 'https://megapx-assets.dcard.tw/images/5cb75938-f300-44a7-b1f2-d9fb5cc279a8/full.jpeg', 'type': 'image/png', 'width': 200, 'height': 200}, 'postCount': {'last30Days': 10}, 'favorite': False, 'enablePrivateMessage': False}, {'id': '6abae5c6-33c2-463d-9629-d4432662c9ab', 'alias': 'rent', 'name': '租屋', 'description': '這裡是租屋板，歡迎討論租屋的大小事。\\n發文前請詳閱版規，務必詳閱版規 。', 'subscriptionCount': 5517, 'subscribed': False, 'read': False, 'createdAt': '2021-06-17T02:34:05.102Z', 'updatedAt': '2021-07-18T13:18:44.030Z', 'canPost': False, 'ignorePost': False, 'invisible': False, 'isSchool': False, 'fullyAnonymous': False, 'canUseNickname': True, 'postThumbnail': {'size': 'small'}, 'shouldCategorized': False, 'shouldPostCategorized': False, 'hasPostCategories': True, 'titlePlaceholder': '', 'postTitlePlaceholder': '發文請於前方加上地區。 如租屋疑問(台北)。', 'ipCountryCondition': {}, 'subcategories': [], 'topics': ['台北', '租屋糾紛', '台中', '套房', '台中租屋', '房東', '房客', '出租', '合租'], 'nsfw': False, 'mediaThreshold': {}, 'limitCountries': [], 'limitStage': 0, 'availableLayouts': ['classic', 'image', 'video', 'link'], 'heroImage': {'url': 'https://megapx-assets.dcard.tw/images/bb285585-be6a-46b3-9244-f4fe0453c113/full.jpeg', 'type': 'image/jpeg', 'width': 1800, 'height': 600}, 'logo': {'url': 'https://megapx-assets.dcard.tw/images/d5a65e10-a3a8-4f98-86ca-705856af661d/full.jpeg', 'type': 'image/png', 'width': 200, 'height': 200}, 'postCount': {'last30Days': 328}, 'favorite': False, 'enablePrivateMessage': True}, {'id': '5bced431-fdc2-49d5-acc6-9cc41c7e6532', 'alias': 'kr_drama', 'name': '韓劇', 'description': '親朋好友照過來，一起來分享韓劇的美好吧！\\n讓還沒入坑的朋友跳進大坑，也讓已經深陷韓劇泥潭的朋友脫離片荒的苦惱~\\n希望大家能一起推廣韓劇的美好嘍🇰🇷🇰🇷', 'subscriptionCount': 9105, 'subscribed': False, 'read': False, 'createdAt': '2021-06-17T02:43:42.208Z', 'updatedAt': '2021-06-17T03:42:41.125Z', 'canPost': False, 'ignorePost': False, 'invisible': False, 'isSchool': False, 'fullyAnonymous': False, 'canUseNickname': True, 'postThumbnail': {'size': 'small'}, 'shouldCategorized': False, 'shouldPostCategorized': False, 'hasPostCategories': True, 'titlePlaceholder': '', 'postTitlePlaceholder': '', 'ipCountryCondition': {}, 'subcategories': [], 'topics': [], 'nsfw': False, 'mediaThreshold': {}, 'limitCountries': [], 'limitStage': 0, 'availableLayouts': ['classic', 'image', 'video', 'link'], 'heroImage': {'url': 'https://megapx-assets.dcard.tw/images/9f9fb76b-a07a-4156-90a4-37ec9f55feda/orig.jpeg', 'type': 'image/jpeg', 'width': 380, 'height': 127}, 'logo': {'url': 'https://megapx-assets.dcard.tw/images/02f78db4-9f4f-44e0-ae46-f8b8d7612cf5/orig.jpeg', 'type': 'image/jpeg', 'width': 200, 'height': 200}, 'postCount': {'last30Days': 117}, 'favorite': False, 'enablePrivateMessage': False}, {'id': 'af1a2923-2b26-4fe1-927d-d3304616d709', 'alias': 'hkmacboy', 'name': '港澳男生', 'description': '屬於港澳男仔嘅討論區，呢到只限男仔可以po文，女仔係不能留言的！\\n要注意唔可以PO色情內容\\n歡迎大家係到討關於男仔既問題～請注意！發文字數不得少於15個字', 'subscriptionCount': 995, 'subscribed': False, 'read': False, 'createdAt': '2021-06-23T04:25:20.818Z', 'updatedAt': '2021-06-24T16:23:05.245Z', 'canPost': False, 'ignorePost': False, 'invisible': False, 'isSchool': False, 'fullyAnonymous': True, 'canUseNickname': True, 'postThumbnail': {'size': 'small'}, 'shouldCategorized': False, 'shouldPostCategorized': False, 'hasPostCategories': False, 'titlePlaceholder': '', 'postTitlePlaceholder': '', 'ipCountryCondition': {'include': []}, 'subcategories': [], 'topics': [], 'nsfw': False, 'mediaThreshold': {}, 'limitCountries': [], 'limitStage': 0, 'availableLayouts': ['classic', 'image', 'video', 'link'], 'heroImage': {'url': 'https://megapx-assets.dcard.tw/images/f6dba9d7-7d68-461e-b6a3-2a58c597b3fe/full.jpeg', 'type': 'image/jpeg', 'width': 1800, 'height': 600}, 'logo': {'url': 'https://megapx-assets.dcard.tw/images/2408233e-c4d4-439e-ab55-0ce0fc98a19c/full.jpeg', 'type': 'image/png', 'width': 200, 'height': 200}, 'postCount': {'last30Days': 40}, 'favorite': False, 'enablePrivateMessage': False}, {'id': '508d842d-eb50-4847-a63d-df9f5a06ec47', 'alias': 'hkmacentertainer', 'name': '港澳追星', 'description': '屬於港澳人嘅追星板！快啲分享下你最鐘意嘅明星同埋關於佢地嘅事啦！請注意！發文字數不得少於15個字', 'subscriptionCount': 567, 'subscribed': False, 'read': False, 'createdAt': '2021-06-23T04:28:33.091Z', 'updatedAt': '2021-07-12T04:52:46.212Z', 'canPost': False, 'ignorePost': False, 'invisible': False, 'isSchool': False, 'fullyAnonymous': False, 'canUseNickname': True, 'postThumbnail': {'size': 'small'}, 'shouldCategorized': False, 'shouldPostCategorized': False, 'hasPostCategories': False, 'titlePlaceholder': '', 'postTitlePlaceholder': '', 'ipCountryCondition': {'include': []}, 'subcategories': [], 'topics': [], 'nsfw': False, 'mediaThreshold': {}, 'limitCountries': [], 'limitStage': 0, 'availableLayouts': ['classic', 'image', 'video', 'link'], 'heroImage': {'url': 'https://megapx-assets.dcard.tw/images/3976a96d-98c7-4a71-9fe5-f925eb5d1aba/full.jpeg', 'type': 'image/jpeg', 'width': 1800, 'height': 600}, 'logo': {'url': 'https://megapx-assets.dcard.tw/images/74df2f77-0e24-4adf-923f-80e9917fbcb7/full.jpeg', 'type': 'image/png', 'width': 200, 'height': 200}, 'postCount': {'last30Days': 41}, 'favorite': False, 'enablePrivateMessage': True}, {'id': 'e44b7e81-ff65-4f8c-8c9b-1d411526655b', 'alias': 'ragnarokx_nextgeneration', 'name': 'RO：新世代的誕生', 'description': 'ROX看板提供卡友們討論攻略、情報分享、遊戲心得跟詢問RO\\n\\n仙境傳說：新世代的誕生之相關問題！', 'subscriptionCount': 78, 'subscribed': False, 'read': False, 'createdAt': '2021-06-24T06:12:55.144Z', 'updatedAt': '2021-06-24T06:17:20.796Z', 'canPost': False, 'ignorePost': False, 'invisible': False, 'isSchool': False, 'fullyAnonymous': False, 'canUseNickname': True, 'postThumbnail': {'size': 'small'}, 'shouldCategorized': False, 'shouldPostCategorized': False, 'hasPostCategories': False, 'titlePlaceholder': '', 'postTitlePlaceholder': '', 'ipCountryCondition': {}, 'subcategories': [], 'topics': [], 'nsfw': False, 'mediaThreshold': {}, 'limitCountries': [], 'limitStage': 0, 'availableLayouts': ['classic', 'image', 'video', 'link'], 'heroImage': {'url': 'https://megapx-assets.dcard.tw/images/7a078bc4-2102-4298-8ceb-265ab299c219/full.jpeg', 'type': 'image/jpeg', 'width': 1800, 'height': 600}, 'logo': {'url': 'https://megapx-assets.dcard.tw/images/038e9349-2d51-44de-a5b5-f10f9cd99c24/full.jpeg', 'type': 'image/png', 'width': 200, 'height': 200}, 'postCount': {'last30Days': 15}, 'favorite': False, 'enablePrivateMessage': False}, {'id': 'c8a16de0-b76f-450e-b0b0-29081c27495c', 'alias': 'play_together', 'name': '天天玩樂園', 'description': '歡迎來到《天天玩樂園》板，祝大家好運連連，一起釣大魚吧٩(˃̶͈̀௰˂̶͈́)و', 'subscriptionCount': 2000, 'subscribed': False, 'read': False, 'createdAt': '2021-06-25T09:27:38.356Z', 'updatedAt': '2021-07-13T11:59:56.033Z', 'canPost': False, 'ignorePost': False, 'invisible': False, 'isSchool': False, 'fullyAnonymous': False, 'canUseNickname': True, 'postThumbnail': {'size': 'small'}, 'shouldCategorized': False, 'shouldPostCategorized': False, 'hasPostCategories': True, 'titlePlaceholder': '', 'postTitlePlaceholder': '', 'ipCountryCondition': {}, 'subcategories': [], 'topics': ['遊戲', '釣魚', '手機遊戲'], 'nsfw': False, 'mediaThreshold': {}, 'limitCountries': [], 'limitStage': 0, 'availableLayouts': ['classic', 'image', 'video', 'link'], 'heroImage': {'url': 'https://megapx-assets.dcard.tw/images/78ca0d97-797a-4a7f-8e75-b31b1f58fdb8/full.jpeg', 'type': 'image/jpeg', 'width': 1800, 'height': 600}, 'logo': {'url': 'https://megapx-assets.dcard.tw/images/6f43bd10-1158-46b4-ba82-f297dfe7ce59/full.jpeg', 'type': 'image/png', 'width': 200, 'height': 200}, 'postCount': {'last30Days': 120}, 'favorite': False, 'enablePrivateMessage': False}, {'id': '495d9eec-0689-44c6-9341-2b96af6bee7a', 'alias': 'dead_by_daylight', 'name': '黎明死線', 'description': '本板為《黎明死線》板，討論主旨為一切與《黎明死線》有關之事物與話題。', 'subscriptionCount': 188, 'subscribed': False, 'read': False, 'createdAt': '2021-06-25T09:28:55.547Z', 'updatedAt': '2021-06-25T09:34:56.612Z', 'canPost': False, 'ignorePost': False, 'invisible': False, 'isSchool': False, 'fullyAnonymous': False, 'canUseNickname': True, 'postThumbnail': {'size': 'small'}, 'shouldCategorized': False, 'shouldPostCategorized': False, 'hasPostCategories': False, 'titlePlaceholder': '', 'postTitlePlaceholder': '', 'ipCountryCondition': {}, 'subcategories': [], 'topics': [], 'nsfw': False, 'mediaThreshold': {}, 'limitCountries': [], 'limitStage': 0, 'availableLayouts': ['classic', 'image', 'video', 'link'], 'heroImage': {'url': 'https://megapx-assets.dcard.tw/images/8c5aeaa7-628f-4f4e-9578-cd1d7518abe4/full.jpeg', 'type': 'image/jpeg', 'width': 1800, 'height': 600}, 'logo': {'url': 'https://megapx-assets.dcard.tw/images/e1f405dd-65bb-4b3b-a021-4e3dc625a733/full.jpeg', 'type': 'image/png', 'width': 200, 'height': 200}, 'postCount': {'last30Days': 5}, 'favorite': False, 'enablePrivateMessage': False}, {'id': '0c16b7c5-1c70-4923-9175-ff8041ab2d52', 'alias': 'yoga', 'name': '瑜珈', 'description': '給熱愛瑜珈、對瑜珈有興趣的同好們，我們一起在相同興趣下努力吧。\\n不論瑜珈上的問題或是對瑜珈的想法，\\n都非常歡迎好夥伴們發文哦～\\n希望好夥伴們可以有個舒適的空間哦！\\n也要記得遵守板規規範，\\n最後祝大家在瑜珈的路上開開心心～', 'subscriptionCount': 1873, 'subscribed': False, 'read': False, 'createdAt': '2021-06-30T08:46:41.541Z', 'updatedAt': '2021-06-30T09:57:26.256Z', 'canPost': False, 'ignorePost': False, 'invisible': False, 'isSchool': False, 'fullyAnonymous': False, 'canUseNickname': True, 'postThumbnail': {'size': 'small'}, 'shouldCategorized': False, 'shouldPostCategorized': False, 'hasPostCategories': True, 'titlePlaceholder': '', 'postTitlePlaceholder': '🧘🏻\\u200d♀️標題前面請分類：#資訊、#心得、#問題、#揪團、#閒聊\\n🧘🏻\\u200d♀️請加上話題：#哈達瑜珈、#熱瑜珈、#陰瑜珈、#空中瑜珈、#艾揚格瑜珈、#阿斯湯珈瑜珈、#流瑜珈、#居家瑜珈、#晨間瑜珈等\\n🧘🏻\\u200d♀️請加上標題：維持體態美、容易上手、新手可以嘗試等\\n🧘🏻\\u200d♀️標題範例：\\n#閒聊 #居家瑜珈 防疫期間也要做瑜珈\\n#心得 #流瑜珈 塑造我美好體態', 'ipCountryCondition': {}, 'subcategories': [], 'topics': [], 'nsfw': False, 'mediaThreshold': {}, 'limitCountries': [], 'limitStage': 0, 'availableLayouts': ['classic', 'image', 'video', 'link'], 'heroImage': {'url': 'https://megapx-assets.dcard.tw/images/cb047fe6-3f44-45a5-9eed-50d4d572fc9f/orig.jpeg', 'type': 'image/jpeg', 'width': 728, 'height': 242}, 'logo': {'url': 'https://megapx-assets.dcard.tw/images/d05a54ab-9ee7-4efd-a125-31f3149adf0b/orig.jpeg', 'type': 'image/jpeg', 'width': 200, 'height': 200}, 'postCount': {'last30Days': 17}, 'favorite': False, 'enablePrivateMessage': False}, {'id': '9f2e8e2f-10f4-415f-870b-eaaeb01a9505', 'alias': 'luxury_watch', 'name': '精品錶', 'description': '供討論、分享、詢問與精品錶相關的話題。請大家理性溝通、和平相處喔！', 'subscriptionCount': 1392, 'subscribed': False, 'read': False, 'createdAt': '2021-06-30T09:04:50.969Z', 'updatedAt': '2021-07-13T09:17:04.550Z', 'canPost': False, 'ignorePost': False, 'invisible': False, 'isSchool': False, 'fullyAnonymous': False, 'canUseNickname': True, 'postThumbnail': {'size': 'small'}, 'shouldCategorized': False, 'shouldPostCategorized': False, 'hasPostCategories': False, 'titlePlaceholder': '', 'postTitlePlaceholder': '', 'ipCountryCondition': {}, 'subcategories': [], 'topics': [], 'nsfw': False, 'mediaThreshold': {}, 'limitCountries': [], 'limitStage': 0, 'availableLayouts': ['classic', 'image', 'video', 'link'], 'heroImage': {'url': 'https://megapx-assets.dcard.tw/images/df66dfd5-8c23-4069-b8a0-686748fa9111/full.jpeg', 'type': 'image/jpeg', 'width': 1800, 'height': 600}, 'logo': {'url': 'https://megapx-assets.dcard.tw/images/cdf88109-f640-4728-adee-8cb858c24bf8/full.jpeg', 'type': 'image/jpeg', 'width': 200, 'height': 200}, 'postCount': {'last30Days': 47}, 'favorite': False, 'enablePrivateMessage': False}, {'id': '339e5449-5b42-48cb-b425-3ffcb845babe', 'alias': 'tattoo', 'name': '刺青', 'description': '', 'subscriptionCount': 1974, 'subscribed': False, 'read': False, 'createdAt': '2021-07-06T07:18:35.667Z', 'updatedAt': '2021-07-06T14:09:37.928Z', 'canPost': False, 'ignorePost': False, 'invisible': False, 'isSchool': False, 'fullyAnonymous': False, 'canUseNickname': True, 'postThumbnail': {'size': 'small'}, 'shouldCategorized': False, 'shouldPostCategorized': False, 'hasPostCategories': True, 'titlePlaceholder': '', 'postTitlePlaceholder': '發文開頭需先放上標題喔 ex. #日式傳統', 'ipCountryCondition': {}, 'subcategories': [], 'topics': [], 'nsfw': False, 'mediaThreshold': {}, 'limitCountries': [], 'limitStage': 0, 'availableLayouts': ['classic', 'image', 'video', 'link'], 'heroImage': {'url': 'https://megapx-assets.dcard.tw/images/3c1cf8c8-fc34-4793-82c1-07e0aa47a785/full.jpeg', 'type': 'image/jpeg', 'width': 1800, 'height': 600}, 'logo': {'url': 'https://megapx-assets.dcard.tw/images/1ea606ab-cc8d-4f70-b619-eb7c7259a719/full.jpeg', 'type': 'image/jpeg', 'width': 200, 'height': 200}, 'postCount': {'last30Days': 47}, 'favorite': False, 'enablePrivateMessage': False}, {'id': '8118cda0-37d5-48c9-85f1-71e088b5e8f1', 'alias': 'jpop', 'name': 'JPOP', 'description': '無論找歌、分享或是發布cover影片通通歡迎(*´³`*)\\nJPOP板將提供給每位日音飯最完善的討論空間❤️❤️', 'subscriptionCount': 1326, 'subscribed': False, 'read': False, 'createdAt': '2021-07-06T07:25:13.770Z', 'updatedAt': '2021-07-15T07:25:18.286Z', 'canPost': False, 'ignorePost': False, 'invisible': False, 'isSchool': False, 'fullyAnonymous': False, 'canUseNickname': True, 'postThumbnail': {'size': 'small'}, 'shouldCategorized': False, 'shouldPostCategorized': False, 'hasPostCategories': True, 'titlePlaceholder': '', 'postTitlePlaceholder': '請大家儘量加上標題(ex.#找歌)，這樣才能夠獲得更精確、快速的回應或幫助唷！', 'ipCountryCondition': {}, 'subcategories': [], 'topics': ['JPOP', '日文歌', '找歌', '分享'], 'nsfw': False, 'mediaThreshold': {}, 'limitCountries': [], 'limitStage': 0, 'availableLayouts': ['classic', 'image', 'video', 'link'], 'heroImage': {'url': 'https://megapx-assets.dcard.tw/images/bd62e5d8-867c-4d34-bb89-b707c9040748/full.jpeg', 'type': 'image/jpeg', 'width': 1800, 'height': 600}, 'logo': {'url': 'https://megapx-assets.dcard.tw/images/c0e0dd41-4fa0-4890-bd0b-e47d0957a7db/full.jpeg', 'type': 'image/jpeg', 'width': 199, 'height': 199}, 'postCount': {'last30Days': 51}, 'favorite': False, 'enablePrivateMessage': False}, {'id': '879d66df-5755-4d88-92c9-656893243067', 'alias': 'gfriend', 'name': 'GFRIEND', 'description': '둘 셋!안녕하세요 여자친구입니다!🤍💙💜\\n二 三!大家好!\\n歡迎來到Dcard GFRIEND板!🤍💙💜', 'subscriptionCount': 1057, 'subscribed': False, 'read': False, 'createdAt': '2021-07-08T05:43:33.946Z', 'updatedAt': '2021-07-18T18:11:42.041Z', 'canPost': False, 'ignorePost': False, 'invisible': False, 'isSchool': False, 'fullyAnonymous': False, 'canUseNickname': True, 'postThumbnail': {'size': 'small'}, 'shouldCategorized': False, 'shouldPostCategorized': False, 'hasPostCategories': True, 'titlePlaceholder': '', 'postTitlePlaceholder': '', 'ipCountryCondition': {}, 'subcategories': [], 'topics': ['GFRIEND', 'Sowon', 'Yerin', 'Eunha', 'Yuju', 'SinB', 'Umji'], 'nsfw': False, 'mediaThreshold': {}, 'limitCountries': [], 'limitStage': 0, 'availableLayouts': ['classic', 'image', 'video', 'link'], 'heroImage': {'url': 'https://megapx-assets.dcard.tw/images/82444a48-494b-4a05-81ca-a963bf921ea6/orig.jpeg', 'type': 'image/jpeg', 'width': 1800, 'height': 600}, 'logo': {'url': 'https://megapx-assets.dcard.tw/images/d2adcd15-4bae-4997-b226-f57ad88d1f83/orig.jpeg', 'type': 'image/jpeg', 'width': 200, 'height': 200}, 'postCount': {'last30Days': 31}, 'favorite': False, 'enablePrivateMessage': False}, {'id': '84809ec4-193a-4088-bf88-3660f5330163', 'alias': 'love_of_unknown', 'name': '未生逆行', 'description': '歡迎大家來到《未生逆行》板，希望各位小主播能在這裡交流，互相交換心動資訊呦σ ﾟ∀ ﾟ) ﾟ∀ﾟ)σ', 'subscriptionCount': 98, 'subscribed': False, 'read': False, 'createdAt': '2021-07-09T03:38:05.681Z', 'updatedAt': '2021-07-09T03:40:30.704Z', 'canPost': False, 'ignorePost': False, 'invisible': False, 'isSchool': False, 'fullyAnonymous': False, 'canUseNickname': True, 'postThumbnail': {'size': 'small'}, 'shouldCategorized': False, 'shouldPostCategorized': False, 'hasPostCategories': False, 'titlePlaceholder': '', 'postTitlePlaceholder': '', 'ipCountryCondition': {}, 'subcategories': [], 'topics': [], 'nsfw': False, 'mediaThreshold': {}, 'limitCountries': [], 'limitStage': 0, 'availableLayouts': ['classic', 'image', 'video', 'link'], 'heroImage': {'url': 'https://megapx-assets.dcard.tw/images/209e73a3-be5c-4322-bfd1-de1f8d675cb5/full.jpeg', 'type': 'image/jpeg', 'width': 1800, 'height': 600}, 'logo': {'url': 'https://megapx-assets.dcard.tw/images/3173ae9e-04df-4b0b-96e0-74200ad2825f/full.jpeg', 'type': 'image/jpeg', 'width': 200, 'height': 200}, 'postCount': {'last30Days': 38}, 'favorite': False, 'enablePrivateMessage': False}, {'id': 'd7938942-0bfb-41a6-abaf-829932ba1057', 'alias': 'china_star', 'name': '中國明星', 'description': '歡迎光臨中國明星板ヾ(･ω･*)ﾉ\\n詳細閱讀板規後你可以盡情分享、討論或是詢問相關資訊。\\n希望卡友能在這裡渡過快樂時光ฅ^•ﻌ•^ฅ', 'subscriptionCount': 496, 'subscribed': False, 'read': False, 'createdAt': '2021-07-13T06:05:23.153Z', 'updatedAt': '2021-07-13T09:20:40.125Z', 'canPost': False, 'ignorePost': False, 'invisible': False, 'isSchool': False, 'fullyAnonymous': False, 'canUseNickname': True, 'postThumbnail': {'size': 'small'}, 'shouldCategorized': False, 'shouldPostCategorized': False, 'hasPostCategories': False, 'titlePlaceholder': '', 'postTitlePlaceholder': '', 'ipCountryCondition': {}, 'subcategories': [], 'topics': [], 'nsfw': False, 'mediaThreshold': {}, 'limitCountries': [], 'limitStage': 0, 'availableLayouts': ['classic', 'image', 'video', 'link'], 'heroImage': {'url': 'https://megapx-assets.dcard.tw/images/957cb22a-286e-41c6-9820-78ebbcfb244c/orig.jpeg', 'type': 'image/jpeg', 'width': 1800, 'height': 600}, 'logo': {'url': 'https://megapx-assets.dcard.tw/images/4d1b07c9-14e8-4228-8369-752fd9a8e2be/orig.jpeg', 'type': 'image/jpeg', 'width': 200, 'height': 200}, 'postCount': {'last30Days': 10}, 'favorite': False, 'enablePrivateMessage': False}, {'id': '6ae7cfd6-7d16-42cc-a040-5e6a8e711899', 'alias': 'genshin', 'name': '原神', 'description': '本板為《原神》板，討論主旨為一切與《原神》有關之事物與話題。', 'subscriptionCount': 185, 'subscribed': False, 'read': False, 'createdAt': '2021-07-16T04:13:22.850Z', 'updatedAt': '2021-07-16T04:26:19.951Z', 'canPost': False, 'ignorePost': False, 'invisible': False, 'isSchool': False, 'fullyAnonymous': False, 'canUseNickname': True, 'postThumbnail': {'size': 'small'}, 'shouldCategorized': False, 'shouldPostCategorized': False, 'hasPostCategories': False, 'titlePlaceholder': '', 'postTitlePlaceholder': '', 'ipCountryCondition': {}, 'subcategories': [], 'topics': [], 'nsfw': False, 'mediaThreshold': {}, 'limitCountries': [], 'limitStage': 0, 'availableLayouts': ['classic', 'image', 'video', 'link'], 'heroImage': {'url': 'https://megapx-assets.dcard.tw/images/5553f002-4fb1-4dec-8673-62e9b184a5cd/full.jpeg', 'type': 'image/jpeg', 'width': 1800, 'height': 600}, 'logo': {'url': 'https://megapx-assets.dcard.tw/images/a264e66d-5ac3-4ccb-aa7c-540e0372c847/full.jpeg', 'type': 'image/jpeg', 'width': 200, 'height': 200}, 'postCount': {'last30Days': 2}, 'favorite': False, 'enablePrivateMessage': False}, {'id': 'c0c98884-d13c-4cdd-85e6-b48c85fdfa8b', 'alias': 'otome_game', 'name': '女性向遊戲', 'description': '本板為女性向遊戲板，討論主旨為一切與女性向遊戲有關之事物與話題。', 'subscriptionCount': 518, 'subscribed': False, 'read': False, 'createdAt': '2021-07-16T04:13:54.009Z', 'updatedAt': '2021-07-16T04:25:36.680Z', 'canPost': False, 'ignorePost': False, 'invisible': False, 'isSchool': False, 'fullyAnonymous': False, 'canUseNickname': True, 'postThumbnail': {'size': 'small'}, 'shouldCategorized': False, 'shouldPostCategorized': False, 'hasPostCategories': False, 'titlePlaceholder': '', 'postTitlePlaceholder': '', 'ipCountryCondition': {}, 'subcategories': [], 'topics': [], 'nsfw': False, 'mediaThreshold': {}, 'limitCountries': [], 'limitStage': 0, 'availableLayouts': ['classic', 'image', 'video', 'link'], 'heroImage': {'url': 'https://megapx-assets.dcard.tw/images/b988a13a-6e6a-4ba7-b8c7-495cecb52cc7/full.jpeg', 'type': 'image/jpeg', 'width': 1800, 'height': 600}, 'logo': {'url': 'https://megapx-assets.dcard.tw/images/9565f435-1196-4a43-97e2-41198e587924/full.jpeg', 'type': 'image/jpeg', 'width': 200, 'height': 200}, 'postCount': {'last30Days': 8}, 'favorite': False, 'enablePrivateMessage': False}]\n"
     ]
    }
   ],
   "source": [
    "import requests\n",
    "r = requests.get('https://www.dcard.tw/_api/forums')\n",
    "response = r.text\n",
    "\n",
    "import json\n",
    "data = json.loads(response)\n",
    "\n",
    "print(data)\n"
   ]
  },
  {
   "cell_type": "code",
   "execution_count": 6,
   "metadata": {},
   "outputs": [],
   "source": [
    "df = pd.DataFrame(data)\n",
    "df = df.sort_values('subscriptionCount',ascending=False)\n",
    "df.to_csv('./dcard.csv')"
   ]
  },
  {
   "cell_type": "code",
   "execution_count": null,
   "metadata": {},
   "outputs": [],
   "source": []
  },
  {
   "cell_type": "code",
   "execution_count": null,
   "metadata": {},
   "outputs": [],
   "source": []
  },
  {
   "cell_type": "code",
   "execution_count": null,
   "metadata": {},
   "outputs": [],
   "source": []
  },
  {
   "cell_type": "code",
   "execution_count": null,
   "metadata": {},
   "outputs": [],
   "source": []
  }
 ],
 "metadata": {
  "colab": {
   "name": "Day_023_HW.ipynb",
   "provenance": []
  },
  "kernelspec": {
   "name": "python3",
   "display_name": "Python 3.8.5 64-bit ('base': conda)"
  },
  "language_info": {
   "codemirror_mode": {
    "name": "ipython",
    "version": 3
   },
   "file_extension": ".py",
   "mimetype": "text/x-python",
   "name": "python",
   "nbconvert_exporter": "python",
   "pygments_lexer": "ipython3",
   "version": "3.8.5"
  },
  "interpreter": {
   "hash": "c61b1a08492ebb6bd345b881a1a23284f9cef2478bfd1e8ace2a451b8e0a1109"
  }
 },
 "nbformat": 4,
 "nbformat_minor": 1
}